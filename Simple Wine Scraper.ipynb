{
 "cells": [
  {
   "cell_type": "code",
   "execution_count": 1,
   "id": "88ec4591",
   "metadata": {},
   "outputs": [],
   "source": [
    "import requests\n",
    "from bs4 import BeautifulSoup"
   ]
  },
  {
   "cell_type": "code",
   "execution_count": 13,
   "id": "30b0d1cd",
   "metadata": {},
   "outputs": [],
   "source": [
    "URL ='https://somavines.com/collections/red'"
   ]
  },
  {
   "cell_type": "code",
   "execution_count": 14,
   "id": "152d6468",
   "metadata": {},
   "outputs": [],
   "source": [
    "page = requests.get(URL)"
   ]
  },
  {
   "cell_type": "code",
   "execution_count": 15,
   "id": "213cf5b1",
   "metadata": {},
   "outputs": [
    {
     "data": {
      "text/plain": [
       "<Response [200]>"
      ]
     },
     "execution_count": 15,
     "metadata": {},
     "output_type": "execute_result"
    }
   ],
   "source": [
    "page"
   ]
  },
  {
   "cell_type": "code",
   "execution_count": 16,
   "id": "8494c273",
   "metadata": {},
   "outputs": [],
   "source": [
    "html = page.content"
   ]
  },
  {
   "cell_type": "code",
   "execution_count": 25,
   "id": "bb6d7960",
   "metadata": {},
   "outputs": [],
   "source": [
    "soup = BeautifulSoup(html, 'html.parser')"
   ]
  },
  {
   "cell_type": "code",
   "execution_count": 33,
   "id": "d476cbbf",
   "metadata": {},
   "outputs": [],
   "source": [
    "title = soup.find('h2', class_=\"title font--block-heading\").get_text()"
   ]
  },
  {
   "cell_type": "code",
   "execution_count": 34,
   "id": "ed4368f3",
   "metadata": {},
   "outputs": [
    {
     "data": {
      "text/plain": [
       "'\\n            Le Bleu 2021 1 Liter\\n          '"
      ]
     },
     "execution_count": 34,
     "metadata": {},
     "output_type": "execute_result"
    }
   ],
   "source": [
    "title"
   ]
  },
  {
   "cell_type": "code",
   "execution_count": 36,
   "id": "f4b8482b",
   "metadata": {},
   "outputs": [
    {
     "data": {
      "text/plain": [
       "'\\n              Philippe Brand\\n            '"
      ]
     },
     "execution_count": 36,
     "metadata": {},
     "output_type": "execute_result"
    }
   ],
   "source": [
    "vendor = soup.find('a',class_=\"font--light-accent\" ).get_text()\n",
    "vendor"
   ]
  },
  {
   "cell_type": "code",
   "execution_count": 38,
   "id": "1303b00a",
   "metadata": {},
   "outputs": [
    {
     "data": {
      "text/plain": [
       "'€23,00'"
      ]
     },
     "execution_count": 38,
     "metadata": {},
     "output_type": "execute_result"
    }
   ],
   "source": [
    "price = soup.find('span', class_=\"actual-price money font--accent\").get_text()\n",
    "price"
   ]
  },
  {
   "cell_type": "code",
   "execution_count": 39,
   "id": "483051ae",
   "metadata": {},
   "outputs": [],
   "source": [
    "#importing pandas to make a dataframe\n",
    "import pandas as pd "
   ]
  },
  {
   "cell_type": "code",
   "execution_count": 50,
   "id": "5f0dba71",
   "metadata": {},
   "outputs": [
    {
     "data": {
      "text/plain": [
       "<div class=\"product--root\">\n",
       "<div class=\"partial--product view--grid index--\" data-view=\"grid\">\n",
       "<div class=\"product--image-wrapper\">\n",
       "<div class=\"product--image\">\n",
       "<a class=\"image-wrapper\" href=\"/collections/red/products/le-bleu-2021\" title=\"Le Bleu 2021 1 Liter\">\n",
       "<div class=\"image--root\" data-aspectratio=\"0.6666666666666666\" style=\"width: 100%;\">\n",
       "<div class=\"image--container\" style=\"padding-top:150.00000000000003%;\">\n",
       "<img alt=\"Le Bleu 2021 1 Liter\" class=\"lazyload\" data-aspectratio=\"0.6666666666666666\" data-sizes=\"auto\" data-src=\"//cdn.shopify.com/s/files/1/0080/2773/4101/products/IMG_2288_{width}x.jpg?v=1602079116\" data-widths=\"[295,394,590,700,800,1000,1200,1200]\"/>\n",
       "</div>\n",
       "<noscript>\n",
       "<img alt=\"Le Bleu 2021 1 Liter\" src=\"//cdn.shopify.com/s/files/1/0080/2773/4101/products/IMG_2288_1024x1024.jpg?v=1602079116\"/>\n",
       "</noscript>\n",
       "</div>\n",
       "</a>\n",
       "</div>\n",
       "</div>\n",
       "<div class=\"caption\">\n",
       "<a href=\"/collections/red/products/le-bleu-2021\" title=\"Le Bleu 2021 1 Liter\">\n",
       "<h2 class=\"title font--block-heading\">\n",
       "            Le Bleu 2021 1 Liter\n",
       "          </h2>\n",
       "</a>\n",
       "<div class=\"vendor\">\n",
       "<a class=\"font--light-accent\" href=\"/collections/vendors?q=Philippe%20Brand\">\n",
       "              Philippe Brand\n",
       "            </a>\n",
       "</div>\n",
       "<a href=\"/collections/red/products/le-bleu-2021\" title=\"Le Bleu 2021 1 Liter\">\n",
       "<p class=\"price font--accent\">\n",
       "<span class=\"actual-price money font--accent\">€23,00</span>\n",
       "</p>\n",
       "</a>\n",
       "</div>\n",
       "</div>\n",
       "</div>"
      ]
     },
     "execution_count": 50,
     "metadata": {},
     "output_type": "execute_result"
    }
   ],
   "source": [
    "products_block = soup.find_all('div', class_='block width--medium-3 spacing--3x')\n",
    "product_block"
   ]
  },
  {
   "cell_type": "code",
   "execution_count": 51,
   "id": "4b631e77",
   "metadata": {},
   "outputs": [],
   "source": [
    "master_list = []\n",
    "for block in soup.find_all('div', class_='block width--medium-3 spacing--3x'):\n",
    "    data_dict = {}\n",
    "    data_dict['title'] = block.find('h2', class_=\"title font--block-heading\").get_text()\n",
    "    data_dict['vendor'] = block.find('a',class_=\"font--light-accent\" ).get_text()\n",
    "    data_dict['price'] = block.find('span', class_=\"actual-price money font--accent\").get_text()\n",
    "    \n",
    "    master_list.append(data_dict)"
   ]
  },
  {
   "cell_type": "code",
   "execution_count": 52,
   "id": "c501792b",
   "metadata": {},
   "outputs": [],
   "source": [
    "data = pd.DataFrame(master_list)"
   ]
  },
  {
   "cell_type": "code",
   "execution_count": 53,
   "id": "acafd1ba",
   "metadata": {},
   "outputs": [
    {
     "data": {
      "text/html": [
       "<div>\n",
       "<style scoped>\n",
       "    .dataframe tbody tr th:only-of-type {\n",
       "        vertical-align: middle;\n",
       "    }\n",
       "\n",
       "    .dataframe tbody tr th {\n",
       "        vertical-align: top;\n",
       "    }\n",
       "\n",
       "    .dataframe thead th {\n",
       "        text-align: right;\n",
       "    }\n",
       "</style>\n",
       "<table border=\"1\" class=\"dataframe\">\n",
       "  <thead>\n",
       "    <tr style=\"text-align: right;\">\n",
       "      <th></th>\n",
       "      <th>title</th>\n",
       "      <th>vendor</th>\n",
       "      <th>price</th>\n",
       "    </tr>\n",
       "  </thead>\n",
       "  <tbody>\n",
       "    <tr>\n",
       "      <th>0</th>\n",
       "      <td>\\n            Le Bleu 2021 1 Liter\\n</td>\n",
       "      <td>\\n              Philippe Brand\\n</td>\n",
       "      <td>€23,00</td>\n",
       "    </tr>\n",
       "    <tr>\n",
       "      <th>1</th>\n",
       "      <td>\\n            inf.RarE.D 2019 (I should care)\\...</td>\n",
       "      <td>\\n              DO.T.E\\n</td>\n",
       "      <td>€29,00</td>\n",
       "    </tr>\n",
       "    <tr>\n",
       "      <th>2</th>\n",
       "      <td>\\n            Le Loup 2018\\n</td>\n",
       "      <td>\\n              Philippe Brand\\n</td>\n",
       "      <td>€25,00</td>\n",
       "    </tr>\n",
       "    <tr>\n",
       "      <th>3</th>\n",
       "      <td>\\n            L'Agneau 2018\\n</td>\n",
       "      <td>\\n              Philippe Brand\\n</td>\n",
       "      <td>€25,00</td>\n",
       "    </tr>\n",
       "    <tr>\n",
       "      <th>4</th>\n",
       "      <td>\\n            Les Corvées 2017\\n</td>\n",
       "      <td>\\n              Domaine de la Touraize\\n      ...</td>\n",
       "      <td>€28,00</td>\n",
       "    </tr>\n",
       "    <tr>\n",
       "      <th>5</th>\n",
       "      <td>\\n            C'est A Siroter Près de Chez vou...</td>\n",
       "      <td>\\n              Domaine des Mathouans\\n       ...</td>\n",
       "      <td>€23,00</td>\n",
       "    </tr>\n",
       "    <tr>\n",
       "      <th>6</th>\n",
       "      <td>\\n            Amb Amics 2020\\n</td>\n",
       "      <td>\\n              Le Debit d'ivresse\\n</td>\n",
       "      <td>€21,00</td>\n",
       "    </tr>\n",
       "    <tr>\n",
       "      <th>7</th>\n",
       "      <td>\\n            Groseille Rouge 2020\\n</td>\n",
       "      <td>\\n              Alexis Hudon\\n</td>\n",
       "      <td>€22,00</td>\n",
       "    </tr>\n",
       "    <tr>\n",
       "      <th>8</th>\n",
       "      <td>\\n            Charpenay 2019\\n</td>\n",
       "      <td>\\n              Domaine de la Gapette\\n       ...</td>\n",
       "      <td>€18,00</td>\n",
       "    </tr>\n",
       "    <tr>\n",
       "      <th>9</th>\n",
       "      <td>\\n            Sang Neuf 2019\\n</td>\n",
       "      <td>\\n              La Dernière Goutte\\n</td>\n",
       "      <td>€23,00</td>\n",
       "    </tr>\n",
       "    <tr>\n",
       "      <th>10</th>\n",
       "      <td>\\n            Sans Frontieres 2019\\n</td>\n",
       "      <td>\\n              La Dernière Goutte\\n</td>\n",
       "      <td>€22,00</td>\n",
       "    </tr>\n",
       "    <tr>\n",
       "      <th>11</th>\n",
       "      <td>\\n            Tisane De Bois Tordu 2019\\n     ...</td>\n",
       "      <td>\\n              La Dernière Goutte\\n</td>\n",
       "      <td>€24,00</td>\n",
       "    </tr>\n",
       "    <tr>\n",
       "      <th>12</th>\n",
       "      <td>\\n            Grand Crew 2021\\n</td>\n",
       "      <td>\\n              SOMA VINES\\n</td>\n",
       "      <td>€17,00</td>\n",
       "    </tr>\n",
       "    <tr>\n",
       "      <th>13</th>\n",
       "      <td>\\n            Bouche Bée 2021\\n</td>\n",
       "      <td>\\n              Domaine Les Enfants Sauvages\\n...</td>\n",
       "      <td>€22,00</td>\n",
       "    </tr>\n",
       "    <tr>\n",
       "      <th>14</th>\n",
       "      <td>\\n            Fleuve Rouge 2021\\n</td>\n",
       "      <td>\\n              La Bancale\\n</td>\n",
       "      <td>€23,00</td>\n",
       "    </tr>\n",
       "    <tr>\n",
       "      <th>15</th>\n",
       "      <td>\\n            Cinabre 2020\\n</td>\n",
       "      <td>\\n              Lapis Vinolenti\\n</td>\n",
       "      <td>€22,00</td>\n",
       "    </tr>\n",
       "  </tbody>\n",
       "</table>\n",
       "</div>"
      ],
      "text/plain": [
       "                                                title  \\\n",
       "0      \\n            Le Bleu 2021 1 Liter\\n             \n",
       "1   \\n            inf.RarE.D 2019 (I should care)\\...   \n",
       "2              \\n            Le Loup 2018\\n             \n",
       "3             \\n            L'Agneau 2018\\n             \n",
       "4          \\n            Les Corvées 2017\\n             \n",
       "5   \\n            C'est A Siroter Près de Chez vou...   \n",
       "6            \\n            Amb Amics 2020\\n             \n",
       "7      \\n            Groseille Rouge 2020\\n             \n",
       "8            \\n            Charpenay 2019\\n             \n",
       "9            \\n            Sang Neuf 2019\\n             \n",
       "10     \\n            Sans Frontieres 2019\\n             \n",
       "11  \\n            Tisane De Bois Tordu 2019\\n     ...   \n",
       "12          \\n            Grand Crew 2021\\n             \n",
       "13          \\n            Bouche Bée 2021\\n             \n",
       "14        \\n            Fleuve Rouge 2021\\n             \n",
       "15             \\n            Cinabre 2020\\n             \n",
       "\n",
       "                                               vendor   price  \n",
       "0        \\n              Philippe Brand\\n              €23,00  \n",
       "1                \\n              DO.T.E\\n              €29,00  \n",
       "2        \\n              Philippe Brand\\n              €25,00  \n",
       "3        \\n              Philippe Brand\\n              €25,00  \n",
       "4   \\n              Domaine de la Touraize\\n      ...  €28,00  \n",
       "5   \\n              Domaine des Mathouans\\n       ...  €23,00  \n",
       "6    \\n              Le Debit d'ivresse\\n              €21,00  \n",
       "7          \\n              Alexis Hudon\\n              €22,00  \n",
       "8   \\n              Domaine de la Gapette\\n       ...  €18,00  \n",
       "9    \\n              La Dernière Goutte\\n              €23,00  \n",
       "10   \\n              La Dernière Goutte\\n              €22,00  \n",
       "11   \\n              La Dernière Goutte\\n              €24,00  \n",
       "12           \\n              SOMA VINES\\n              €17,00  \n",
       "13  \\n              Domaine Les Enfants Sauvages\\n...  €22,00  \n",
       "14           \\n              La Bancale\\n              €23,00  \n",
       "15      \\n              Lapis Vinolenti\\n              €22,00  "
      ]
     },
     "execution_count": 53,
     "metadata": {},
     "output_type": "execute_result"
    }
   ],
   "source": [
    "data"
   ]
  },
  {
   "cell_type": "code",
   "execution_count": null,
   "id": "e4ec0c64",
   "metadata": {},
   "outputs": [],
   "source": []
  }
 ],
 "metadata": {
  "kernelspec": {
   "display_name": "Python 3 (ipykernel)",
   "language": "python",
   "name": "python3"
  },
  "language_info": {
   "codemirror_mode": {
    "name": "ipython",
    "version": 3
   },
   "file_extension": ".py",
   "mimetype": "text/x-python",
   "name": "python",
   "nbconvert_exporter": "python",
   "pygments_lexer": "ipython3",
   "version": "3.9.7"
  }
 },
 "nbformat": 4,
 "nbformat_minor": 5
}
