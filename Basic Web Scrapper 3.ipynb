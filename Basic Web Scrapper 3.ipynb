{
 "cells": [
  {
   "cell_type": "code",
   "execution_count": 3,
   "id": "7f40891b",
   "metadata": {},
   "outputs": [],
   "source": [
    "from selenium import webdriver\n",
    "from selenium.webdriver.common.keys import Keys\n",
    "\n",
    "from webdriver_manager.chrome import ChromeDriverManager\n",
    "\n",
    "import time\n",
    "\n",
    "from bs4 import BeautifulSoup"
   ]
  },
  {
   "cell_type": "code",
   "execution_count": 4,
   "id": "4244a32d",
   "metadata": {},
   "outputs": [],
   "source": [
    "driver = webdriver.Chrome(ChromeDriverManager().install())"
   ]
  },
  {
   "cell_type": "code",
   "execution_count": 5,
   "id": "93810139",
   "metadata": {},
   "outputs": [],
   "source": [
    "driver.get('https://www.youtube.com/user/jacksfilms/videos')"
   ]
  },
  {
   "cell_type": "code",
   "execution_count": 6,
   "id": "e6204930",
   "metadata": {},
   "outputs": [],
   "source": [
    "driver.find_element_by_tag_name('body').send_keys(Keys.END)"
   ]
  },
  {
   "cell_type": "code",
   "execution_count": 8,
   "id": "821f071a",
   "metadata": {},
   "outputs": [],
   "source": [
    "for _ in range(56):\n",
    "    driver.find_element_by_tag_name('body').send_keys(Keys.END)\n",
    "    time.sleep(3)\n",
    "    break"
   ]
  },
  {
   "cell_type": "code",
   "execution_count": 9,
   "id": "b3ab0ae0",
   "metadata": {},
   "outputs": [],
   "source": [
    "html = driver.page_source"
   ]
  },
  {
   "cell_type": "code",
   "execution_count": 10,
   "id": "b71f7133",
   "metadata": {},
   "outputs": [],
   "source": [
    "soup = BeautifulSoup(html, 'html.parser')"
   ]
  },
  {
   "cell_type": "code",
   "execution_count": 11,
   "id": "411e8f7c",
   "metadata": {},
   "outputs": [],
   "source": [
    "videos = soup.find_all('div', {\"id\": \"dismissible\"})"
   ]
  },
  {
   "cell_type": "code",
   "execution_count": 12,
   "id": "52f1c14c",
   "metadata": {},
   "outputs": [
    {
     "data": {
      "text/plain": [
       "[]"
      ]
     },
     "execution_count": 12,
     "metadata": {},
     "output_type": "execute_result"
    }
   ],
   "source": [
    "videos"
   ]
  },
  {
   "cell_type": "code",
   "execution_count": 13,
   "id": "a66db232",
   "metadata": {},
   "outputs": [],
   "source": [
    "master_list = []\n",
    "for video in videos:\n",
    "    data_dict = {}\n",
    "    data_dict['title']     = video.find('a', {'id': 'video-title'}).text\n",
    "    data_dict['video_url'] = 'https://www.youtube.com' +video.find('a', {'id': 'video-title'})['href']\n",
    "    meta      = video.find('div', {'id': 'metadata-line'}).find_all('span')\n",
    "    data_dict['views']     = meta[0].text\n",
    "    data_dict['video_age'] = meta[1].text\n",
    "    \n",
    "    master_list.append(data_dict)"
   ]
  },
  {
   "cell_type": "code",
   "execution_count": 15,
   "id": "8f9f696d",
   "metadata": {},
   "outputs": [],
   "source": [
    "import pandas as pd"
   ]
  },
  {
   "cell_type": "code",
   "execution_count": 16,
   "id": "712aab33",
   "metadata": {
    "scrolled": false
   },
   "outputs": [],
   "source": [
    "youtube_df = pd.DataFrame(master_list)"
   ]
  },
  {
   "cell_type": "code",
   "execution_count": 15,
   "id": "9b5e7edb",
   "metadata": {},
   "outputs": [],
   "source": [
    "def convert_views(df):\n",
    "    if 'K' in df['views']:\n",
    "        views = int(df['views'].split('K')[0])*1000\n",
    "        return views\n",
    "    elif 'M' in df['views']:\n",
    "        views = int(df['views'].split('K')[0])*1000000\n",
    "        return views\n",
    "        "
   ]
  },
  {
   "cell_type": "code",
   "execution_count": 18,
   "id": "8214b80e",
   "metadata": {
    "scrolled": true
   },
   "outputs": [],
   "source": [
    "#youtube_df['CLEAN VIEWS'] = youtube_df.apply(convert_views, axis=1)"
   ]
  },
  {
   "cell_type": "code",
   "execution_count": 18,
   "id": "ad8c283c",
   "metadata": {},
   "outputs": [],
   "source": [
    "youtube_df.to_csv('sample_output_youtube.csv', index=False)"
   ]
  },
  {
   "cell_type": "code",
   "execution_count": 19,
   "id": "5bf177e2",
   "metadata": {},
   "outputs": [
    {
     "ename": "AttributeError",
     "evalue": "'DataFrame' object has no attribute 'views'",
     "output_type": "error",
     "traceback": [
      "\u001b[1;31m---------------------------------------------------------------------------\u001b[0m",
      "\u001b[1;31mAttributeError\u001b[0m                            Traceback (most recent call last)",
      "\u001b[1;32m~\\AppData\\Local\\Temp/ipykernel_7756/2176355496.py\u001b[0m in \u001b[0;36m<module>\u001b[1;34m\u001b[0m\n\u001b[1;32m----> 1\u001b[1;33m \u001b[0myoutube_df\u001b[0m\u001b[1;33m.\u001b[0m\u001b[0mviews\u001b[0m\u001b[1;33m\u001b[0m\u001b[1;33m\u001b[0m\u001b[0m\n\u001b[0m",
      "\u001b[1;32m~\\anaconda3\\lib\\site-packages\\pandas\\core\\generic.py\u001b[0m in \u001b[0;36m__getattr__\u001b[1;34m(self, name)\u001b[0m\n\u001b[0;32m   5485\u001b[0m         ):\n\u001b[0;32m   5486\u001b[0m             \u001b[1;32mreturn\u001b[0m \u001b[0mself\u001b[0m\u001b[1;33m[\u001b[0m\u001b[0mname\u001b[0m\u001b[1;33m]\u001b[0m\u001b[1;33m\u001b[0m\u001b[1;33m\u001b[0m\u001b[0m\n\u001b[1;32m-> 5487\u001b[1;33m         \u001b[1;32mreturn\u001b[0m \u001b[0mobject\u001b[0m\u001b[1;33m.\u001b[0m\u001b[0m__getattribute__\u001b[0m\u001b[1;33m(\u001b[0m\u001b[0mself\u001b[0m\u001b[1;33m,\u001b[0m \u001b[0mname\u001b[0m\u001b[1;33m)\u001b[0m\u001b[1;33m\u001b[0m\u001b[1;33m\u001b[0m\u001b[0m\n\u001b[0m\u001b[0;32m   5488\u001b[0m \u001b[1;33m\u001b[0m\u001b[0m\n\u001b[0;32m   5489\u001b[0m     \u001b[1;32mdef\u001b[0m \u001b[0m__setattr__\u001b[0m\u001b[1;33m(\u001b[0m\u001b[0mself\u001b[0m\u001b[1;33m,\u001b[0m \u001b[0mname\u001b[0m\u001b[1;33m:\u001b[0m \u001b[0mstr\u001b[0m\u001b[1;33m,\u001b[0m \u001b[0mvalue\u001b[0m\u001b[1;33m)\u001b[0m \u001b[1;33m->\u001b[0m \u001b[1;32mNone\u001b[0m\u001b[1;33m:\u001b[0m\u001b[1;33m\u001b[0m\u001b[1;33m\u001b[0m\u001b[0m\n",
      "\u001b[1;31mAttributeError\u001b[0m: 'DataFrame' object has no attribute 'views'"
     ]
    }
   ],
   "source": [
    "youtube_df.views"
   ]
  },
  {
   "cell_type": "code",
   "execution_count": null,
   "id": "433d9744",
   "metadata": {},
   "outputs": [],
   "source": []
  },
  {
   "cell_type": "code",
   "execution_count": null,
   "id": "3587f6cc",
   "metadata": {},
   "outputs": [],
   "source": []
  }
 ],
 "metadata": {
  "kernelspec": {
   "display_name": "Python 3 (ipykernel)",
   "language": "python",
   "name": "python3"
  },
  "language_info": {
   "codemirror_mode": {
    "name": "ipython",
    "version": 3
   },
   "file_extension": ".py",
   "mimetype": "text/x-python",
   "name": "python",
   "nbconvert_exporter": "python",
   "pygments_lexer": "ipython3",
   "version": "3.9.7"
  }
 },
 "nbformat": 4,
 "nbformat_minor": 5
}
