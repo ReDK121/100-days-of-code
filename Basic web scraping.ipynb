{
 "cells": [
  {
   "cell_type": "code",
   "execution_count": 1,
   "id": "5aa10fd2",
   "metadata": {},
   "outputs": [],
   "source": [
    "import requests \n",
    "from bs4 import BeautifulSoup"
   ]
  },
  {
   "cell_type": "code",
   "execution_count": 7,
   "id": "139788b0",
   "metadata": {},
   "outputs": [],
   "source": [
    "url = 'https://lipsum.com'"
   ]
  },
  {
   "cell_type": "code",
   "execution_count": 17,
   "id": "a4e15070",
   "metadata": {},
   "outputs": [],
   "source": [
    "url = 'https://12000.athenahealth.com'"
   ]
  },
  {
   "cell_type": "code",
   "execution_count": 8,
   "id": "5eb84518",
   "metadata": {
    "scrolled": true
   },
   "outputs": [],
   "source": [
    "response = requests.get(url)"
   ]
  },
  {
   "cell_type": "code",
   "execution_count": 10,
   "id": "66d84318",
   "metadata": {},
   "outputs": [],
   "source": [
    "html = response.text"
   ]
  },
  {
   "cell_type": "code",
   "execution_count": 11,
   "id": "791418a5",
   "metadata": {},
   "outputs": [],
   "source": [
    "soup = BeautifulSoup(html, 'html.parser')"
   ]
  },
  {
   "cell_type": "code",
   "execution_count": 16,
   "id": "cde1f9e3",
   "metadata": {
    "scrolled": true
   },
   "outputs": [
    {
     "data": {
      "text/plain": [
       "1"
      ]
     },
     "execution_count": 16,
     "metadata": {},
     "output_type": "execute_result"
    }
   ],
   "source": [
    "len(soup.find_all('h1'))"
   ]
  },
  {
   "cell_type": "code",
   "execution_count": null,
   "id": "59708527",
   "metadata": {},
   "outputs": [],
   "source": [
    "def get_clinic_name(clinic_id):\n",
    "    url=f'https://{clinic_id}.athenahealth.com'\n",
    "    response = requests.get(url)\n",
    "    html = response.text\n",
    "    soup = BeautifulSoup(html, 'html.parser')\n",
    "    clinic_name = soup.find_all('h1')[-1].text.stripe()"
   ]
  },
  {
   "cell_type": "code",
   "execution_count": 20,
   "id": "6683d56c",
   "metadata": {},
   "outputs": [],
   "source": [
    "start =12690\n",
    "end   =12710"
   ]
  },
  {
   "cell_type": "code",
   "execution_count": 22,
   "id": "41fb2b21",
   "metadata": {
    "scrolled": true
   },
   "outputs": [
    {
     "name": "stdout",
     "output_type": "stream",
     "text": [
      "12690\n",
      "12691\n",
      "12692\n",
      "12693\n",
      "12694\n",
      "12695\n",
      "12696\n",
      "12697\n",
      "12698\n",
      "12699\n",
      "12700\n",
      "12701\n",
      "12702\n",
      "12703\n",
      "12704\n",
      "12705\n",
      "12706\n",
      "12707\n",
      "12708\n",
      "12709\n",
      "12710\n"
     ]
    }
   ],
   "source": [
    "master_list = []\n",
    "\n",
    "for clinic_id in range(start, end+1):\n",
    "    data_dict={}\n",
    "    data_dict['clinic_id'] = clinic_id\n",
    "    data_dict['clinic_name'] = get_clinic_name(clinic_id)\n",
    "    if data_dict['clinic_name'] != 'Payment confirmation' and data_dict['clinic_name'] != \"Sorry, we can't find practice...\"\n",
    "    master_list.append(data_dict)\n",
    "    print(clinic_id)"
   ]
  },
  {
   "cell_type": "code",
   "execution_count": 23,
   "id": "05fbafa6",
   "metadata": {},
   "outputs": [],
   "source": [
    "import pandas as pd"
   ]
  },
  {
   "cell_type": "code",
   "execution_count": null,
   "id": "c1bb6b1c",
   "metadata": {},
   "outputs": [],
   "source": [
    "df = pd.DataFrame(master_list)"
   ]
  },
  {
   "cell_type": "code",
   "execution_count": null,
   "id": "a947f80b",
   "metadata": {},
   "outputs": [],
   "source": [
    "df.to_csv('clinic_data.csv', index = False) #we don't want to insclude the index there"
   ]
  },
  {
   "cell_type": "code",
   "execution_count": null,
   "id": "fda993c8",
   "metadata": {},
   "outputs": [],
   "source": []
  },
  {
   "cell_type": "code",
   "execution_count": null,
   "id": "02af21fc",
   "metadata": {},
   "outputs": [],
   "source": []
  },
  {
   "cell_type": "code",
   "execution_count": null,
   "id": "5bb43fd3",
   "metadata": {},
   "outputs": [],
   "source": []
  },
  {
   "cell_type": "code",
   "execution_count": null,
   "id": "16d777be",
   "metadata": {},
   "outputs": [],
   "source": []
  },
  {
   "cell_type": "code",
   "execution_count": null,
   "id": "050ad601",
   "metadata": {},
   "outputs": [],
   "source": []
  },
  {
   "cell_type": "code",
   "execution_count": null,
   "id": "546e006f",
   "metadata": {},
   "outputs": [],
   "source": []
  }
 ],
 "metadata": {
  "kernelspec": {
   "display_name": "Python 3 (ipykernel)",
   "language": "python",
   "name": "python3"
  },
  "language_info": {
   "codemirror_mode": {
    "name": "ipython",
    "version": 3
   },
   "file_extension": ".py",
   "mimetype": "text/x-python",
   "name": "python",
   "nbconvert_exporter": "python",
   "pygments_lexer": "ipython3",
   "version": "3.9.7"
  }
 },
 "nbformat": 4,
 "nbformat_minor": 5
}
